{
  "nbformat": 4,
  "nbformat_minor": 0,
  "metadata": {
    "colab": {
      "name": "Web_run_GPU.ipynb",
      "provenance": [],
      "collapsed_sections": [],
      "machine_shape": "hm",
      "mount_file_id": "1Sdhu6VzG2kRpcuAkXP1dRYg4--QjiY0Q",
      "authorship_tag": "ABX9TyOZUNedjIMWEZlnaysn6AL0",
      "include_colab_link": true
    },
    "kernelspec": {
      "name": "python3",
      "display_name": "Python 3"
    },
    "accelerator": "GPU"
  },
  "cells": [
    {
      "cell_type": "markdown",
      "metadata": {
        "id": "view-in-github",
        "colab_type": "text"
      },
      "source": [
        "<a href=\"https://colab.research.google.com/github/sejin-sim/Museum_Neural_Art/blob/master/Web_run_GPU.ipynb\" target=\"_parent\"><img src=\"https://colab.research.google.com/assets/colab-badge.svg\" alt=\"Open In Colab\"/></a>"
      ]
    },
    {
      "cell_type": "markdown",
      "metadata": {
        "id": "LeS1-hW11bUg"
      },
      "source": [
        "### Step 1. 아래 셀을 실행 해 주세요. (기본 설치 파일)\n",
        "### Step 1. Please run the cell below. (default installation file)"
      ]
    },
    {
      "cell_type": "code",
      "metadata": {
        "id": "I6arzLA9QJwk",
        "colab": {
          "base_uri": "https://localhost:8080/"
        },
        "outputId": "5b69f9c8-fc60-48a2-813d-352721010e5e"
      },
      "source": [
        "! git clone https://github.com/sejin-sim/Museum_Neural_Art.git\n",
        "! pip install flask-ngrok"
      ],
      "execution_count": 2,
      "outputs": [
        {
          "output_type": "stream",
          "text": [
            "Cloning into 'Museum_Neural_Art'...\n",
            "remote: Enumerating objects: 150, done.\u001b[K\n",
            "remote: Counting objects: 100% (150/150), done.\u001b[K\n",
            "remote: Compressing objects: 100% (127/127), done.\u001b[K\n",
            "remote: Total 150 (delta 50), reused 94 (delta 18), pack-reused 0\u001b[K\n",
            "Receiving objects: 100% (150/150), 7.53 MiB | 22.11 MiB/s, done.\n",
            "Resolving deltas: 100% (50/50), done.\n",
            "Collecting flask-ngrok\n",
            "  Downloading https://files.pythonhosted.org/packages/af/6c/f54cb686ad1129e27d125d182f90f52b32f284e6c8df58c1bae54fa1adbc/flask_ngrok-0.0.25-py3-none-any.whl\n",
            "Requirement already satisfied: Flask>=0.8 in /usr/local/lib/python3.7/dist-packages (from flask-ngrok) (1.1.2)\n",
            "Requirement already satisfied: requests in /usr/local/lib/python3.7/dist-packages (from flask-ngrok) (2.23.0)\n",
            "Requirement already satisfied: itsdangerous>=0.24 in /usr/local/lib/python3.7/dist-packages (from Flask>=0.8->flask-ngrok) (1.1.0)\n",
            "Requirement already satisfied: Jinja2>=2.10.1 in /usr/local/lib/python3.7/dist-packages (from Flask>=0.8->flask-ngrok) (2.11.3)\n",
            "Requirement already satisfied: click>=5.1 in /usr/local/lib/python3.7/dist-packages (from Flask>=0.8->flask-ngrok) (7.1.2)\n",
            "Requirement already satisfied: Werkzeug>=0.15 in /usr/local/lib/python3.7/dist-packages (from Flask>=0.8->flask-ngrok) (1.0.1)\n",
            "Requirement already satisfied: chardet<4,>=3.0.2 in /usr/local/lib/python3.7/dist-packages (from requests->flask-ngrok) (3.0.4)\n",
            "Requirement already satisfied: certifi>=2017.4.17 in /usr/local/lib/python3.7/dist-packages (from requests->flask-ngrok) (2020.12.5)\n",
            "Requirement already satisfied: urllib3!=1.25.0,!=1.25.1,<1.26,>=1.21.1 in /usr/local/lib/python3.7/dist-packages (from requests->flask-ngrok) (1.24.3)\n",
            "Requirement already satisfied: idna<3,>=2.5 in /usr/local/lib/python3.7/dist-packages (from requests->flask-ngrok) (2.10)\n",
            "Requirement already satisfied: MarkupSafe>=0.23 in /usr/local/lib/python3.7/dist-packages (from Jinja2>=2.10.1->Flask>=0.8->flask-ngrok) (1.1.1)\n",
            "Installing collected packages: flask-ngrok\n",
            "Successfully installed flask-ngrok-0.0.25\n"
          ],
          "name": "stdout"
        }
      ]
    },
    {
      "cell_type": "code",
      "metadata": {
        "id": "LN2HZgkBbQ1L"
      },
      "source": [
        "from flask import Flask , render_template ,request\n",
        "import os, sys\n",
        "import matplotlib.pyplot as plt\n",
        "import style_transfer\n",
        "from flask import Flask, url_for, redirect, render_template, request\n",
        "from flask_ngrok import run_with_ngrok\n",
        "import os\n",
        "import time\n",
        "import numpy as np\n",
        "\n",
        "TEMPLATE_FOLDER = '/content/Museum_Neural_Art/templates' # 임의의 경로\n",
        "STATIC_FOLDER = '/content/Museum_Neural_Art/static' # 임의의 경로\n",
        "app = Flask(__name__, template_folder=TEMPLATE_FOLDER, static_folder = STATIC_FOLDER)\n",
        "run_with_ngrok(app)   #starts ngrok when the app is run\n",
        "\n",
        "UPLOAD_FOLDER = '/content/Museum_Neural_Art/static/image/upload'\n",
        "style =\"\"\n",
        "@app.route(\"/\")\n",
        "def home():\n",
        "\treturn render_template(\"index.html\")\n",
        "\n",
        "@app.route(\"/success\", methods=['POST'])\n",
        "def upload_file():\n",
        "      a = str(np.random.randint(1,100))\n",
        "      content = request.files['file']\n",
        "      style = request.form.get('style')\n",
        "      content.save(os.path.join(UPLOAD_FOLDER+ '/'+a+'content.jpg'))\n",
        "\n",
        "      #load in content and style image\n",
        "      content = style_transfer.load_image(UPLOAD_FOLDER+'/'+a+'content.jpg')\n",
        "      \n",
        "      vgg = style_transfer.model()\n",
        "\n",
        "      style, target, x = [0 for i in range(5)],[0 for i in range(5)],[0 for i in range(5)]\n",
        "\n",
        "      for i in range(0,5):\n",
        "        # #Resize style to match content, makes code easier\n",
        "        style[i] = style_transfer.load_image('/content/Museum_Neural_Art/static/image/s'+ str(i+1)+'.jpg', shape=content.shape[-2:])\n",
        "        target[i] = style_transfer.stylize(content,style[i],vgg)\n",
        "        x[i] = style_transfer.im_convert(target[i])\n",
        "        plt.imsave(UPLOAD_FOLDER+'/'+a+'target_'+str(i)+'.png',x[i])\n",
        "\n",
        "      return render_template('success.html', content_file= 'image/upload/'+a+'content.jpg', t_0= 'image/upload/'+a+'target_0.png',\n",
        "                             t_1= 'image/upload/'+a+'target_1.png', t_2= 'image/upload/'+a+'target_2.png', \n",
        "                             t_3= 'image/upload/'+a+'target_3.png', t_4= 'image/upload/'+a+'target_4.png')\n",
        "\n",
        "# 다시하기 버튼 만들기\n",
        "@app.route(\"/restart\")\n",
        "def restart():\n",
        "  os.remove(UPLOAD_FOLDER+ '/'+a+'content.jpg')\n",
        "  os.remove(UPLOAD_FOLDER+ '/'+a+'target.png')\n",
        "  return render_template(\"index.html\") \n",
        "\n",
        "if __name__ == '__main__':\n",
        "    app.run()"
      ],
      "execution_count": null,
      "outputs": []
    },
    {
      "cell_type": "markdown",
      "metadata": {
        "id": "WZmHb7c81h3o"
      },
      "source": [
        "### Step 2. 아래 셀을 시작하여 Website에 접속하세요.\n",
        "### Step 2. Run the cell below and access the Web site.\n",
        "- 서버가 1회용으로 제공되기 때문에 1명만 접속이 가능합니다.\n",
        "- Only one user can connect because the server is weak."
      ]
    },
    {
      "cell_type": "code",
      "metadata": {
        "colab": {
          "base_uri": "https://localhost:8080/"
        },
        "id": "N4j4_vUsQmr3",
        "outputId": "c520d5ba-8b50-4cb9-d428-c6fa1124b2f3"
      },
      "source": [
        "! python /content/Museum_Neural_Art/app.py"
      ],
      "execution_count": 4,
      "outputs": [
        {
          "output_type": "stream",
          "text": [
            " * Serving Flask app \"app\" (lazy loading)\n",
            " * Environment: production\n",
            "\u001b[31m   WARNING: This is a development server. Do not use it in a production deployment.\u001b[0m\n",
            "\u001b[2m   Use a production WSGI server instead.\u001b[0m\n",
            " * Debug mode: off\n",
            " * Running on http://127.0.0.1:5000/ (Press CTRL+C to quit)\n",
            " * Running on http://1ec6e70817da.ngrok.io\n",
            " * Traffic stats available on http://127.0.0.1:4040\n",
            "127.0.0.1 - - [09/Apr/2021 05:06:03] \"\u001b[37mGET / HTTP/1.1\u001b[0m\" 200 -\n",
            "127.0.0.1 - - [09/Apr/2021 05:06:03] \"\u001b[37mGET /static/image/loading_horse.gif HTTP/1.1\u001b[0m\" 200 -\n",
            "127.0.0.1 - - [09/Apr/2021 05:06:03] \"\u001b[37mGET /static/css/main.css HTTP/1.1\u001b[0m\" 200 -\n",
            "127.0.0.1 - - [09/Apr/2021 05:06:03] \"\u001b[37mGET /static/js/jquery.min.js HTTP/1.1\u001b[0m\" 200 -\n",
            "127.0.0.1 - - [09/Apr/2021 05:06:04] \"\u001b[37mGET /static/js/jquery.scrollex.min.js HTTP/1.1\u001b[0m\" 200 -\n",
            "127.0.0.1 - - [09/Apr/2021 05:06:04] \"\u001b[37mGET /static/js/jquery.scrolly.min.js HTTP/1.1\u001b[0m\" 200 -\n",
            "127.0.0.1 - - [09/Apr/2021 05:06:04] \"\u001b[37mGET /static/js/browser.min.js HTTP/1.1\u001b[0m\" 200 -\n",
            "127.0.0.1 - - [09/Apr/2021 05:06:04] \"\u001b[37mGET /static/js/breakpoints.min.js HTTP/1.1\u001b[0m\" 200 -\n",
            "127.0.0.1 - - [09/Apr/2021 05:06:04] \"\u001b[37mGET /static/js/main.js HTTP/1.1\u001b[0m\" 200 -\n",
            "127.0.0.1 - - [09/Apr/2021 05:06:04] \"\u001b[37mGET /static/js/util.js HTTP/1.1\u001b[0m\" 200 -\n",
            "127.0.0.1 - - [09/Apr/2021 05:06:04] \"\u001b[37mGET /static/image/loading_wave.gif HTTP/1.1\u001b[0m\" 200 -\n",
            "127.0.0.1 - - [09/Apr/2021 05:06:04] \"\u001b[33mGET /static/css/fontawesome-all.min.css HTTP/1.1\u001b[0m\" 404 -\n",
            "127.0.0.1 - - [09/Apr/2021 05:06:05] \"\u001b[33mGET /images/banner.jpg HTTP/1.1\u001b[0m\" 404 -\n",
            "127.0.0.1 - - [09/Apr/2021 05:06:05] \"\u001b[33mGET /favicon.ico HTTP/1.1\u001b[0m\" 404 -\n",
            "Downloading: \"https://download.pytorch.org/models/vgg19-dcbb9e9d.pth\" to /root/.cache/torch/hub/checkpoints/vgg19-dcbb9e9d.pth\n",
            "100% 548M/548M [00:11<00:00, 49.1MB/s]\n",
            "127.0.0.1 - - [09/Apr/2021 05:07:54] \"\u001b[37mPOST /success HTTP/1.1\u001b[0m\" 200 -\n",
            "127.0.0.1 - - [09/Apr/2021 05:07:55] \"\u001b[37mGET /static/image/upload/48content.jpg HTTP/1.1\u001b[0m\" 200 -\n",
            "127.0.0.1 - - [09/Apr/2021 05:07:55] \"\u001b[37mGET /static/image/upload/48target_4.png HTTP/1.1\u001b[0m\" 200 -\n",
            "127.0.0.1 - - [09/Apr/2021 05:07:55] \"\u001b[37mGET /static/image/upload/48target_0.png HTTP/1.1\u001b[0m\" 200 -\n",
            "127.0.0.1 - - [09/Apr/2021 05:07:55] \"\u001b[37mGET /static/image/upload/48target_2.png HTTP/1.1\u001b[0m\" 200 -\n",
            "127.0.0.1 - - [09/Apr/2021 05:07:55] \"\u001b[37mGET /static/image/upload/48target_1.png HTTP/1.1\u001b[0m\" 200 -\n",
            "127.0.0.1 - - [09/Apr/2021 05:07:55] \"\u001b[37mGET /static/image/upload/48target_3.png HTTP/1.1\u001b[0m\" 200 -\n",
            "127.0.0.1 - - [09/Apr/2021 05:09:40] \"\u001b[37mGET / HTTP/1.1\u001b[0m\" 200 -\n",
            "127.0.0.1 - - [09/Apr/2021 05:09:41] \"\u001b[37mGET /static/css/main.css HTTP/1.1\u001b[0m\" 200 -\n",
            "127.0.0.1 - - [09/Apr/2021 05:09:41] \"\u001b[37mGET /static/image/loading_horse.gif HTTP/1.1\u001b[0m\" 200 -\n",
            "127.0.0.1 - - [09/Apr/2021 05:09:41] \"\u001b[37mGET /static/js/jquery.min.js HTTP/1.1\u001b[0m\" 200 -\n",
            "127.0.0.1 - - [09/Apr/2021 05:09:41] \"\u001b[37mGET /static/js/jquery.scrollex.min.js HTTP/1.1\u001b[0m\" 200 -\n",
            "127.0.0.1 - - [09/Apr/2021 05:09:41] \"\u001b[37mGET /static/js/jquery.scrolly.min.js HTTP/1.1\u001b[0m\" 200 -\n",
            "127.0.0.1 - - [09/Apr/2021 05:09:41] \"\u001b[37mGET /static/js/browser.min.js HTTP/1.1\u001b[0m\" 200 -\n",
            "127.0.0.1 - - [09/Apr/2021 05:09:41] \"\u001b[37mGET /static/js/breakpoints.min.js HTTP/1.1\u001b[0m\" 200 -\n",
            "127.0.0.1 - - [09/Apr/2021 05:09:41] \"\u001b[37mGET /static/js/util.js HTTP/1.1\u001b[0m\" 200 -\n",
            "127.0.0.1 - - [09/Apr/2021 05:09:41] \"\u001b[37mGET /static/js/main.js HTTP/1.1\u001b[0m\" 200 -\n",
            "127.0.0.1 - - [09/Apr/2021 05:09:42] \"\u001b[37mGET /static/image/loading_wave.gif HTTP/1.1\u001b[0m\" 200 -\n",
            "127.0.0.1 - - [09/Apr/2021 05:09:42] \"\u001b[33mGET /static/css/fontawesome-all.min.css HTTP/1.1\u001b[0m\" 404 -\n",
            "127.0.0.1 - - [09/Apr/2021 05:09:42] \"\u001b[33mGET /images/banner.jpg HTTP/1.1\u001b[0m\" 404 -\n",
            "127.0.0.1 - - [09/Apr/2021 05:09:42] \"\u001b[33mGET /favicon.ico HTTP/1.1\u001b[0m\" 404 -\n"
          ],
          "name": "stdout"
        }
      ]
    }
  ]
}